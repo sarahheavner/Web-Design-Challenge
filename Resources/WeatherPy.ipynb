{
 "cells": [
  {
   "cell_type": "markdown",
   "metadata": {},
   "source": [
    "WeatherPy Analysis\n",
    "\n",
    "     - Temperature has a strong correlation to proximity to the equator. The highest temperatures fall between -20 and 20 latitude.\n",
    "     - Wind Speed seems to be pretty pretty consistent throughout all latitudes, with a handful of cities that have higher wind speed\n",
    "     - Cloudiness does not seem to have a correlation with latitude\n",
    "     - Overall, temperature is most related to latitude"
   ]
  },
  {
   "cell_type": "code",
   "execution_count": 2,
   "metadata": {},
   "outputs": [],
   "source": [
    "#Import Dependencies\n",
    "import pandas as pd\n",
    "import requests\n",
    "import time\n",
    "import numpy as np\n",
    "import matplotlib.pyplot as plt\n",
    "from config import api_key\n",
    "from scipy.stats import linregress\n",
    "\n",
    "#Create Output File (CSV)\n",
    "output_data_file = \"cities.csv\""
   ]
  },
  {
   "cell_type": "code",
   "execution_count": 3,
   "metadata": {},
   "outputs": [
    {
     "data": {
      "text/plain": [
       "602"
      ]
     },
     "execution_count": 3,
     "metadata": {},
     "output_type": "execute_result"
    }
   ],
   "source": [
    "#Use CityPy to generate list of cities for weather data\n",
    "\n",
    "from citipy import citipy\n",
    "\n",
    "\n",
    "#Set latitude and longitude ranges \n",
    "\n",
    "latitide_range = (-90, 90)\n",
    "longitude_range = (-180, 180)\n",
    "\n",
    "\n",
    "#Set empty lists to hold city and coordinates\n",
    "coordinates = []\n",
    "cities = []\n",
    "\n",
    "#Set random latitude and longitude coordinates\n",
    "lats = np.random.uniform(latitide_range[0], latitide_range[1], size=1500)\n",
    "lngs = np.random.uniform(longitude_range[0], longitude_range[1], size=1500)\n",
    "coordinates = zip(lats, lngs)\n",
    "\n",
    "\n",
    "#Use loop to select closest city to random coordinates\n",
    "for coordinates in coordinates:\n",
    "    city = citipy.nearest_city(coordinates[0], coordinates[1]).city_name\n",
    "    \n",
    "    #Add city to city list if unique\n",
    "    if city not in cities:\n",
    "        cities.append(city)\n",
    "        \n",
    "len(cities)"
   ]
  },
  {
   "cell_type": "code",
   "execution_count": 4,
   "metadata": {},
   "outputs": [],
   "source": [
    "#Set URL config\n",
    "\n",
    "url = \"http://api.openweathermap.org/data/2.5/weather?\"\n",
    "units = \"Imperial\"\n",
    "\n",
    "#Create partial URL with API key\n",
    "\n",
    "query_url = f'{url}appid={api_key}&units={units}&q='\n"
   ]
  },
  {
   "cell_type": "code",
   "execution_count": 5,
   "metadata": {},
   "outputs": [
    {
     "name": "stdout",
     "output_type": "stream",
     "text": [
      "Beginning Data Retrieval\n",
      "------------------------\n",
      "Processing Record 1 | black river\n",
      "Processing Record 2 | tuktoyaktuk\n",
      "City not found. Skipping...\n",
      "City not found. Skipping...\n",
      "Processing Record 3 | comodoro rivadavia\n",
      "Processing Record 4 | melilla\n",
      "Processing Record 5 | hobart\n",
      "Processing Record 6 | hovd\n",
      "Processing Record 7 | ponta do sol\n",
      "Processing Record 8 | kahului\n",
      "Processing Record 9 | semnan\n",
      "Processing Record 10 | rikitea\n",
      "Processing Record 11 | nikolskoye\n",
      "Processing Record 12 | bathsheba\n",
      "Processing Record 13 | kodiak\n",
      "Processing Record 14 | nadym\n",
      "Processing Record 15 | lac du bonnet\n",
      "Processing Record 16 | hof\n",
      "Processing Record 17 | bridlington\n",
      "Processing Record 18 | vaini\n",
      "Processing Record 19 | bredasdorp\n",
      "Processing Record 20 | bozoum\n",
      "Processing Record 21 | araouane\n",
      "Processing Record 22 | faanui\n",
      "Processing Record 23 | hermanus\n",
      "Processing Record 24 | calama\n",
      "Processing Record 25 | petatlan\n",
      "Processing Record 26 | leshukonskoye\n",
      "Processing Record 27 | pisco\n",
      "Processing Record 28 | punta arenas\n",
      "Processing Record 29 | albany\n",
      "Processing Record 30 | new norfolk\n",
      "Processing Record 31 | voyvozh\n",
      "Processing Record 32 | santarem\n",
      "Processing Record 33 | qaanaaq\n",
      "Processing Record 34 | stornoway\n",
      "Processing Record 35 | ushuaia\n",
      "Processing Record 36 | mount isa\n",
      "Processing Record 37 | codrington\n",
      "Processing Record 38 | lebu\n",
      "Processing Record 39 | busselton\n",
      "Processing Record 40 | inuvik\n",
      "Processing Record 41 | marystown\n",
      "Processing Record 42 | kapaa\n",
      "City not found. Skipping...\n",
      "Processing Record 43 | hualmay\n",
      "Processing Record 44 | hithadhoo\n",
      "Processing Record 45 | pak phanang\n",
      "Processing Record 46 | henties bay\n",
      "Processing Record 47 | sidney\n",
      "Processing Record 48 | bairiki\n",
      "Processing Record 49 | severo-kurilsk\n",
      "Processing Record 50 | dikson\n",
      "Processing Record 51 | avarua\n",
      "Processing Record 52 | bluff\n",
      "Processing Record 53 | itaituba\n",
      "Processing Record 54 | truth or consequences\n",
      "Processing Record 55 | petropavlovsk-kamchatskiy\n",
      "Processing Record 56 | mataura\n",
      "Processing Record 57 | yellowknife\n",
      "Processing Record 58 | carnarvon\n",
      "Processing Record 59 | fortuna\n",
      "Processing Record 60 | anadyr\n",
      "Processing Record 61 | leon valley\n",
      "Processing Record 62 | lasa\n",
      "Processing Record 63 | narsaq\n",
      "Processing Record 64 | burnie\n",
      "Processing Record 65 | east london\n",
      "Processing Record 66 | bosaso\n",
      "Processing Record 67 | charlestown\n",
      "City not found. Skipping...\n",
      "Processing Record 68 | clyde river\n",
      "Processing Record 69 | margate\n",
      "City not found. Skipping...\n",
      "Processing Record 70 | kavieng\n",
      "Processing Record 71 | noumea\n",
      "Processing Record 72 | port alfred\n",
      "Processing Record 73 | cherskiy\n",
      "Processing Record 74 | port macquarie\n",
      "Processing Record 75 | cape town\n",
      "Processing Record 76 | castro\n",
      "Processing Record 77 | sorland\n",
      "Processing Record 78 | kudahuvadhoo\n",
      "City not found. Skipping...\n",
      "Processing Record 79 | puerto ayora\n",
      "City not found. Skipping...\n",
      "Processing Record 80 | pimenta bueno\n",
      "Processing Record 81 | alice springs\n",
      "Processing Record 82 | jamestown\n",
      "Processing Record 83 | nuuk\n",
      "Processing Record 84 | biak\n",
      "City not found. Skipping...\n",
      "Processing Record 85 | koungou\n",
      "Processing Record 86 | esperance\n",
      "Processing Record 87 | mkokotoni\n",
      "Processing Record 88 | qaqortoq\n",
      "City not found. Skipping...\n",
      "Processing Record 89 | cuamba\n",
      "City not found. Skipping...\n",
      "Processing Record 90 | teya\n",
      "Processing Record 91 | mansehra\n",
      "Processing Record 92 | saint-philippe\n",
      "Processing Record 93 | harwich\n",
      "Processing Record 94 | bambous virieux\n",
      "Processing Record 95 | jutai\n",
      "Processing Record 96 | atuona\n",
      "Processing Record 97 | marienburg\n",
      "Processing Record 98 | nioro\n",
      "Processing Record 99 | touros\n",
      "Processing Record 100 | ahipara\n",
      "Processing Record 101 | richmond\n",
      "Processing Record 102 | upernavik\n",
      "Processing Record 103 | llandrindod wells\n",
      "Processing Record 104 | ribeira grande\n",
      "Processing Record 105 | nikolayevka\n",
      "City not found. Skipping...\n",
      "Processing Record 106 | mehamn\n",
      "City not found. Skipping...\n",
      "Processing Record 107 | lata\n",
      "Processing Record 108 | portland\n",
      "City not found. Skipping...\n",
      "Processing Record 109 | chokurdakh\n",
      "Processing Record 110 | pevek\n",
      "Processing Record 111 | koyelga\n",
      "Processing Record 112 | zhuanghe\n",
      "Processing Record 113 | port blair\n",
      "Processing Record 114 | port lincoln\n",
      "Processing Record 115 | barrow\n",
      "Processing Record 116 | olafsvik\n",
      "Processing Record 117 | vestmannaeyjar\n",
      "City not found. Skipping...\n",
      "Processing Record 118 | tyulgan\n",
      "Processing Record 119 | kralendijk\n",
      "Processing Record 120 | vila franca do campo\n",
      "Processing Record 121 | saint-pierre\n",
      "Processing Record 122 | sinnamary\n",
      "Processing Record 123 | huarmey\n",
      "Processing Record 124 | jackson\n",
      "Processing Record 125 | zaysan\n",
      "Processing Record 126 | sekoma\n",
      "Processing Record 127 | aykhal\n",
      "Processing Record 128 | kaitangata\n",
      "Processing Record 129 | salalah\n",
      "Processing Record 130 | acoyapa\n",
      "Processing Record 131 | isiro\n",
      "Processing Record 132 | ixtapa\n",
      "Processing Record 133 | vao\n",
      "Processing Record 134 | vila\n",
      "Processing Record 135 | tasiilaq\n",
      "Processing Record 136 | kompaniyivka\n",
      "Processing Record 137 | santiago del estero\n",
      "Processing Record 138 | njombe\n",
      "Processing Record 139 | veinticinco de mayo\n",
      "Processing Record 140 | amapa\n",
      "Processing Record 141 | rocha\n",
      "Processing Record 142 | mar del plata\n",
      "Processing Record 143 | malanje\n",
      "Processing Record 144 | jeremie\n",
      "Processing Record 145 | asau\n",
      "Processing Record 146 | ilulissat\n",
      "Processing Record 147 | ancud\n",
      "Processing Record 148 | leningradskiy\n",
      "Processing Record 149 | vilyuysk\n",
      "Processing Record 150 | norman wells\n",
      "Processing Record 151 | longyearbyen\n",
      "Processing Record 152 | komsomolskiy\n",
      "Processing Record 153 | kaeo\n",
      "Processing Record 154 | apolda\n",
      "Processing Record 155 | padang\n",
      "Processing Record 156 | mitu\n",
      "Processing Record 157 | souillac\n",
      "Processing Record 158 | trebisacce\n",
      "Processing Record 159 | saskylakh\n",
      "Processing Record 160 | isangel\n",
      "Processing Record 161 | flinders\n",
      "Processing Record 162 | santa cruz\n",
      "Processing Record 163 | mahebourg\n",
      "Processing Record 164 | provideniya\n",
      "Processing Record 165 | belyy yar\n",
      "City not found. Skipping...\n",
      "Processing Record 166 | san andres\n",
      "Processing Record 167 | umm lajj\n",
      "Processing Record 168 | puerto rondon\n",
      "Processing Record 169 | la ronge\n",
      "Processing Record 170 | chiscas\n",
      "Processing Record 171 | luderitz\n",
      "Processing Record 172 | talnakh\n",
      "Processing Record 173 | houma\n",
      "Processing Record 174 | thompson\n",
      "City not found. Skipping...\n",
      "Processing Record 175 | areka\n",
      "Processing Record 176 | sovetskiy\n",
      "Processing Record 177 | ugoofaaru\n",
      "Processing Record 178 | port elizabeth\n",
      "Processing Record 179 | tiksi\n",
      "Processing Record 180 | yulara\n",
      "City not found. Skipping...\n",
      "Processing Record 181 | mackenzie\n",
      "Processing Record 182 | gebre guracha\n",
      "Processing Record 183 | tucurui\n",
      "Processing Record 184 | qandala\n",
      "Processing Record 185 | saint george\n",
      "Processing Record 186 | inirida\n",
      "Processing Record 187 | cayenne\n",
      "Processing Record 188 | kibakwe\n",
      "Processing Record 189 | bac lieu\n",
      "Processing Record 190 | dergachi\n",
      "Processing Record 191 | port shepstone\n",
      "Processing Record 192 | arraial do cabo\n",
      "Processing Record 193 | butaritari\n",
      "Processing Record 194 | ust-ordynskiy\n",
      "Processing Record 195 | merauke\n",
      "Processing Record 196 | rawah\n",
      "Processing Record 197 | san luis\n",
      "Processing Record 198 | tura\n",
      "Processing Record 199 | coahuayana\n",
      "Processing Record 200 | severo-yeniseyskiy\n",
      "Processing Record 201 | lake city\n",
      "Processing Record 202 | torbay\n",
      "Processing Record 203 | at-bashi\n",
      "Processing Record 204 | rio grande\n",
      "Processing Record 205 | tulagi\n",
      "Processing Record 206 | dire\n",
      "Processing Record 207 | thyboron\n",
      "Processing Record 208 | grand gaube\n",
      "Processing Record 209 | njinikom\n",
      "Processing Record 210 | harper\n",
      "Processing Record 211 | chapais\n",
      "Processing Record 212 | businga\n",
      "Processing Record 213 | dunedin\n",
      "Processing Record 214 | galle\n",
      "Processing Record 215 | swan river\n",
      "Processing Record 216 | lianran\n",
      "Processing Record 217 | lukovetskiy\n",
      "Processing Record 218 | port hedland\n",
      "Processing Record 219 | hofn\n",
      "City not found. Skipping...\n",
      "Processing Record 220 | miraflores\n",
      "Processing Record 221 | tarbes\n",
      "Processing Record 222 | grindavik\n",
      "Processing Record 223 | pangody\n",
      "Processing Record 224 | bengkulu\n",
      "Processing Record 225 | bodden town\n",
      "Processing Record 226 | vanimo\n",
      "City not found. Skipping...\n",
      "Processing Record 227 | katsuura\n",
      "Processing Record 228 | salvador\n",
      "Processing Record 229 | georgetown\n",
      "Processing Record 230 | sancti spiritus\n"
     ]
    },
    {
     "name": "stdout",
     "output_type": "stream",
     "text": [
      "Processing Record 231 | anloga\n",
      "Processing Record 232 | vardo\n",
      "Processing Record 233 | sept-iles\n",
      "Processing Record 234 | seoul\n",
      "Processing Record 235 | reyes\n",
      "Processing Record 236 | mochudi\n",
      "Processing Record 237 | elbistan\n",
      "Processing Record 238 | montrose\n",
      "City not found. Skipping...\n",
      "Processing Record 239 | melfort\n",
      "Processing Record 240 | buala\n",
      "Processing Record 241 | bethel\n",
      "Processing Record 242 | santa marinella\n",
      "City not found. Skipping...\n",
      "Processing Record 243 | axim\n",
      "Processing Record 244 | college\n",
      "Processing Record 245 | mwinilunga\n",
      "Processing Record 246 | vila velha\n",
      "Processing Record 247 | abrau-dyurso\n",
      "Processing Record 248 | tigre\n",
      "Processing Record 249 | hatillo\n",
      "Processing Record 250 | chelmza\n",
      "City not found. Skipping...\n",
      "Processing Record 251 | beringovskiy\n",
      "Processing Record 252 | naze\n",
      "Processing Record 253 | saint-avold\n",
      "Processing Record 254 | dzaoudzi\n",
      "Processing Record 255 | broome\n",
      "Processing Record 256 | acarau\n",
      "City not found. Skipping...\n",
      "Processing Record 257 | ca mau\n",
      "Processing Record 258 | airai\n",
      "Processing Record 259 | blackwater\n",
      "Processing Record 260 | sao filipe\n",
      "Processing Record 261 | tutoia\n",
      "Processing Record 262 | idaho falls\n",
      "Processing Record 263 | coquimbo\n",
      "Processing Record 264 | energeticheskiy\n",
      "Processing Record 265 | bonthe\n",
      "Processing Record 266 | upata\n",
      "Processing Record 267 | tessalit\n",
      "Processing Record 268 | derzhavinsk\n",
      "Processing Record 269 | oranjemund\n",
      "Processing Record 270 | somerville\n",
      "Processing Record 271 | cidreira\n",
      "City not found. Skipping...\n",
      "Processing Record 272 | harlingen\n",
      "Processing Record 273 | siyabuswa\n",
      "Processing Record 274 | aklavik\n",
      "Processing Record 275 | lompoc\n",
      "Processing Record 276 | itupiranga\n",
      "Processing Record 277 | suez\n",
      "Processing Record 278 | tuatapere\n",
      "Processing Record 279 | wanning\n",
      "Processing Record 280 | cheremshan\n",
      "Processing Record 281 | ust-omchug\n",
      "Processing Record 282 | salekhard\n",
      "Processing Record 283 | hasaki\n",
      "Processing Record 284 | bilma\n",
      "Processing Record 285 | san pedro\n",
      "Processing Record 286 | kuching\n",
      "Processing Record 287 | bubaque\n",
      "City not found. Skipping...\n",
      "Processing Record 288 | colesberg\n",
      "Processing Record 289 | labuhan\n",
      "Processing Record 290 | curitibanos\n",
      "Processing Record 291 | sitka\n",
      "Processing Record 292 | monte patria\n",
      "Processing Record 293 | varkkallai\n",
      "Processing Record 294 | waingapu\n",
      "Processing Record 295 | lavra\n",
      "Processing Record 296 | verkhnevilyuysk\n",
      "Processing Record 297 | trairi\n",
      "Processing Record 298 | manzanillo\n",
      "Processing Record 299 | ust-kuyga\n",
      "City not found. Skipping...\n",
      "Processing Record 300 | broken hill\n",
      "Processing Record 301 | la macarena\n",
      "Processing Record 302 | sao joao da barra\n",
      "Processing Record 303 | vikarabad\n",
      "Processing Record 304 | nizhniy baskunchak\n",
      "Processing Record 305 | srednekolymsk\n",
      "Processing Record 306 | zaria\n",
      "Processing Record 307 | nalut\n",
      "Processing Record 308 | abatskoye\n",
      "Processing Record 309 | meulaboh\n",
      "Processing Record 310 | kushima\n",
      "Processing Record 311 | havoysund\n",
      "Processing Record 312 | duku\n",
      "City not found. Skipping...\n",
      "Processing Record 313 | chuy\n",
      "Processing Record 314 | slavsk\n",
      "Processing Record 315 | san quintin\n",
      "Processing Record 316 | aras\n",
      "Processing Record 317 | hilo\n",
      "Processing Record 318 | belmonte\n",
      "Processing Record 319 | sherbakul\n",
      "Processing Record 320 | dhidhdhoo\n",
      "Processing Record 321 | stenlille\n",
      "Processing Record 322 | yar-sale\n",
      "Processing Record 323 | oga\n",
      "Processing Record 324 | bandarbeyla\n",
      "Processing Record 325 | lagoa\n",
      "Processing Record 326 | victoria\n",
      "Processing Record 327 | hobyo\n",
      "Processing Record 328 | mana\n",
      "Processing Record 329 | murakami\n",
      "Processing Record 330 | porto torres\n",
      "Processing Record 331 | uvira\n",
      "Processing Record 332 | iqaluit\n",
      "Processing Record 333 | saint-donat-de-montcalm\n",
      "Processing Record 334 | faya\n",
      "Processing Record 335 | aguimes\n",
      "Processing Record 336 | mount gambier\n",
      "Processing Record 337 | buin\n",
      "Processing Record 338 | beloha\n",
      "Processing Record 339 | neryungri\n",
      "Processing Record 340 | rantepao\n",
      "City not found. Skipping...\n",
      "Processing Record 341 | rafaela\n",
      "Processing Record 342 | caravelas\n",
      "Processing Record 343 | makakilo city\n",
      "Processing Record 344 | bedele\n",
      "Processing Record 345 | sisimiut\n",
      "Processing Record 346 | port-cartier\n",
      "Processing Record 347 | aloleng\n",
      "Processing Record 348 | nanortalik\n",
      "Processing Record 349 | kroya\n",
      "Processing Record 350 | gazojak\n",
      "Processing Record 351 | porto novo\n",
      "Processing Record 352 | zuwarah\n",
      "Processing Record 353 | bentiu\n",
      "Processing Record 354 | kailua\n",
      "City not found. Skipping...\n",
      "Processing Record 355 | mandera\n",
      "Processing Record 356 | cam ranh\n",
      "Processing Record 357 | gdov\n",
      "Processing Record 358 | wadi musa\n",
      "Processing Record 359 | constitucion\n",
      "Processing Record 360 | heilbron\n",
      "Processing Record 361 | qasigiannguit\n",
      "Processing Record 362 | santa rosa\n",
      "Processing Record 363 | kapit\n",
      "Processing Record 364 | avera\n",
      "Processing Record 365 | pervomayskiy\n",
      "Processing Record 366 | gotemba\n",
      "Processing Record 367 | ngorongoro\n",
      "Processing Record 368 | ketchikan\n",
      "Processing Record 369 | la sarre\n",
      "Processing Record 370 | viedma\n",
      "Processing Record 371 | saint-francois\n",
      "City not found. Skipping...\n",
      "Processing Record 372 | dingle\n",
      "Processing Record 373 | roebourne\n",
      "Processing Record 374 | kutum\n",
      "Processing Record 375 | essex\n",
      "Processing Record 376 | kenitra\n",
      "Processing Record 377 | opuwo\n",
      "Processing Record 378 | boyolangu\n",
      "Processing Record 379 | donskoye\n",
      "Processing Record 380 | san patricio\n",
      "Processing Record 381 | ambilobe\n",
      "Processing Record 382 | jiaohe\n",
      "Processing Record 383 | saint-augustin\n",
      "Processing Record 384 | sault sainte marie\n",
      "Processing Record 385 | saldanha\n",
      "Processing Record 386 | kruisfontein\n",
      "Processing Record 387 | korla\n",
      "Processing Record 388 | petersburg\n",
      "Processing Record 389 | leh\n",
      "Processing Record 390 | wilmington\n",
      "Processing Record 391 | baoqing\n",
      "Processing Record 392 | ginda\n",
      "Processing Record 393 | invermere\n",
      "City not found. Skipping...\n",
      "Processing Record 394 | chumikan\n",
      "Processing Record 395 | san cristobal\n",
      "Processing Record 396 | pangnirtung\n",
      "Processing Record 397 | chitral\n",
      "Processing Record 398 | zhezkazgan\n",
      "Processing Record 399 | amot\n",
      "Processing Record 400 | waipawa\n",
      "Processing Record 401 | halifax\n",
      "Processing Record 402 | vetlanda\n",
      "Processing Record 403 | bontang\n",
      "Processing Record 404 | goderich\n",
      "Processing Record 405 | cabedelo\n",
      "Processing Record 406 | lokosovo\n",
      "Processing Record 407 | chipinge\n",
      "Processing Record 408 | emerald\n",
      "Processing Record 409 | nelipyno\n",
      "City not found. Skipping...\n",
      "Processing Record 410 | cabo san lucas\n",
      "Processing Record 411 | payo\n",
      "Processing Record 412 | papar\n",
      "Processing Record 413 | aberystwyth\n",
      "Processing Record 414 | karaton\n",
      "Processing Record 415 | chornukhy\n",
      "Processing Record 416 | barkhan\n",
      "Processing Record 417 | pitimbu\n",
      "Processing Record 418 | baykit\n",
      "Processing Record 419 | khatanga\n",
      "Processing Record 420 | rio gallegos\n",
      "Processing Record 421 | borogontsy\n",
      "Processing Record 422 | lishu\n",
      "Processing Record 423 | gambela\n",
      "Processing Record 424 | grand forks\n",
      "Processing Record 425 | semey\n",
      "Processing Record 426 | poum\n",
      "Processing Record 427 | mineros\n",
      "City not found. Skipping...\n",
      "Processing Record 428 | agadez\n",
      "Processing Record 429 | augustow\n",
      "Processing Record 430 | alofi\n",
      "Processing Record 431 | ngunguru\n",
      "Processing Record 432 | davila\n",
      "Processing Record 433 | neuquen\n",
      "Processing Record 434 | kodinsk\n",
      "Processing Record 435 | berbera\n",
      "Processing Record 436 | alcaniz\n",
      "Processing Record 437 | haines junction\n",
      "Processing Record 438 | maningrida\n",
      "City not found. Skipping...\n",
      "Processing Record 439 | guerrero negro\n",
      "Processing Record 440 | aksu\n",
      "Processing Record 441 | mission\n",
      "Processing Record 442 | saint-georges\n",
      "Processing Record 443 | aracuai\n",
      "Processing Record 444 | wembley\n",
      "Processing Record 445 | alyangula\n",
      "Processing Record 446 | uspenka\n",
      "Processing Record 447 | northam\n",
      "Processing Record 448 | saint anthony\n",
      "Processing Record 449 | svetlyy\n",
      "Processing Record 450 | saint-denis\n",
      "Processing Record 451 | west richland\n",
      "Processing Record 452 | aripuana\n",
      "Processing Record 453 | killybegs\n",
      "Processing Record 454 | diego de almagro\n",
      "Processing Record 455 | basco\n",
      "Processing Record 456 | le port\n",
      "Processing Record 457 | osoyoos\n",
      "Processing Record 458 | ludvika\n",
      "Processing Record 459 | koumac\n",
      "Processing Record 460 | brasilia\n",
      "Processing Record 461 | kolaras\n",
      "Processing Record 462 | arcos de la frontera\n",
      "Processing Record 463 | ormara\n",
      "Processing Record 464 | atar\n",
      "Processing Record 465 | majene\n"
     ]
    },
    {
     "name": "stdout",
     "output_type": "stream",
     "text": [
      "Processing Record 466 | yuza\n",
      "City not found. Skipping...\n",
      "Processing Record 467 | puerto escondido\n",
      "Processing Record 468 | ashqelon\n",
      "Processing Record 469 | angra dos reis\n",
      "City not found. Skipping...\n",
      "Processing Record 470 | craig\n",
      "City not found. Skipping...\n",
      "Processing Record 471 | kieta\n",
      "Processing Record 472 | toora-khem\n",
      "City not found. Skipping...\n",
      "Processing Record 473 | namyslow\n",
      "Processing Record 474 | sibu\n",
      "Processing Record 475 | bud\n",
      "Processing Record 476 | kalemie\n",
      "Processing Record 477 | nantucket\n",
      "Processing Record 478 | mogadishu\n",
      "Processing Record 479 | bilibino\n",
      "Processing Record 480 | natal\n",
      "Processing Record 481 | klaksvik\n",
      "Processing Record 482 | shenjiamen\n",
      "Processing Record 483 | el jicaro\n",
      "Processing Record 484 | barcelona\n",
      "Processing Record 485 | kaseda\n",
      "Processing Record 486 | lipin bor\n",
      "City not found. Skipping...\n",
      "Processing Record 487 | kenai\n",
      "Processing Record 488 | ballina\n",
      "Processing Record 489 | andenes\n",
      "Processing Record 490 | tautira\n",
      "Processing Record 491 | pilar\n",
      "Processing Record 492 | tukrah\n",
      "Processing Record 493 | jalu\n",
      "City not found. Skipping...\n",
      "Processing Record 494 | nabire\n",
      "Processing Record 495 | velka bites\n",
      "Processing Record 496 | goundam\n",
      "Processing Record 497 | saint andrews\n",
      "Processing Record 498 | dakar\n",
      "Processing Record 499 | itoman\n",
      "Processing Record 500 | kulob\n",
      "Processing Record 501 | urucara\n",
      "Processing Record 502 | portsmouth\n",
      "Processing Record 503 | stepnogorsk\n",
      "Processing Record 504 | york\n",
      "Processing Record 505 | aksay\n",
      "Processing Record 506 | ntungamo\n",
      "Processing Record 507 | lukiv\n",
      "City not found. Skipping...\n",
      "Processing Record 508 | motala\n",
      "Processing Record 509 | san ramon\n",
      "Processing Record 510 | okhotsk\n",
      "Processing Record 511 | yeppoon\n",
      "Processing Record 512 | horta\n",
      "Processing Record 513 | ibresi\n",
      "Processing Record 514 | querfurt\n",
      "Processing Record 515 | skelleftea\n",
      "Processing Record 516 | laguna\n",
      "Processing Record 517 | lermontovka\n",
      "City not found. Skipping...\n",
      "Processing Record 518 | nador\n",
      "Processing Record 519 | graaff-reinet\n",
      "Processing Record 520 | kidal\n",
      "Processing Record 521 | krasnogorskoye\n",
      "Processing Record 522 | kharp\n",
      "Processing Record 523 | vaxjo\n",
      "Processing Record 524 | los llanos de aridane\n",
      "Processing Record 525 | karatu\n",
      "Processing Record 526 | westport\n",
      "Processing Record 527 | alta floresta\n",
      "Processing Record 528 | booue\n",
      "Processing Record 529 | forio\n",
      "Processing Record 530 | lavrentiya\n",
      "Processing Record 531 | kandrian\n",
      "Processing Record 532 | kamenka\n",
      "Processing Record 533 | moranbah\n",
      "Processing Record 534 | raga\n",
      "Processing Record 535 | karratha\n",
      "Processing Record 536 | tamworth\n",
      "Processing Record 537 | nemuro\n",
      "Processing Record 538 | kostomuksha\n",
      "Processing Record 539 | melendugno\n",
      "Processing Record 540 | springbok\n",
      "Processing Record 541 | pemangkat\n",
      "Processing Record 542 | tual\n",
      "Processing Record 543 | kununurra\n",
      "Processing Record 544 | bethal\n",
      "Processing Record 545 | pyapon\n",
      "Processing Record 546 | jinxi\n",
      "Processing Record 547 | nam som\n",
      "Processing Record 548 | ulladulla\n",
      "Processing Record 549 | lorengau\n",
      "Processing Record 550 | mago\n",
      "Processing Record 551 | lanzhou\n",
      "Processing Record 552 | benguela\n",
      "Processing Record 553 | serenje\n",
      "Processing Record 554 | pantai remis\n",
      "Processing Record 555 | romitan\n",
      "Processing Record 556 | yumen\n",
      "Processing Record 557 | tecoanapa\n",
      "Processing Record 558 | kintinku\n",
      "City not found. Skipping...\n",
      "Processing Record 559 | guamuchil\n",
      "------------------------\n",
      "Data Retrieval Complete\n",
      "------------------------\n"
     ]
    }
   ],
   "source": [
    "#Create empty lists for necessary data\n",
    "city_name = []\n",
    "latitude = []\n",
    "longitude= []\n",
    "temperature = []\n",
    "humidity = []\n",
    "cloudiness = []\n",
    "wind_speed = []\n",
    "country = []\n",
    "date = []\n",
    "city_no = []\n",
    "\n",
    "\n",
    "record = 1\n",
    "\n",
    "print('Beginning Data Retrieval')\n",
    "print('------------------------')\n",
    "\n",
    "#Create for loop to append above lists with weather data\n",
    "for city in cities:\n",
    "    try:\n",
    "        response = requests.get(query_url + city).json() \n",
    "        city_name.append(response['name'])\n",
    "        latitude.append(response['coord']['lat'])\n",
    "        longitude.append(response['coord']['lon'])\n",
    "        temperature.append(response['main']['temp_max'])\n",
    "        humidity.append(response['main']['humidity'])\n",
    "        cloudiness.append(response['clouds']['all'])\n",
    "        wind_speed.append(response['wind']['speed'])\n",
    "        country.append(response['sys']['country'])\n",
    "        date.append(response['dt'])\n",
    "        city_no.append(record)\n",
    "        print(f'Processing Record {record} | {city}')\n",
    "        \n",
    "        record = record + 1\n",
    "        \n",
    "        time.sleep(1.00)\n",
    "    \n",
    "    except Exception:\n",
    "        print(\"City not found. Skipping...\")\n",
    "    continue\n",
    "print('------------------------')\n",
    "print('Data Retrieval Complete')\n",
    "print('------------------------')"
   ]
  },
  {
   "cell_type": "code",
   "execution_count": 7,
   "metadata": {},
   "outputs": [
    {
     "data": {
      "text/html": [
       "<div>\n",
       "<style scoped>\n",
       "    .dataframe tbody tr th:only-of-type {\n",
       "        vertical-align: middle;\n",
       "    }\n",
       "\n",
       "    .dataframe tbody tr th {\n",
       "        vertical-align: top;\n",
       "    }\n",
       "\n",
       "    .dataframe thead th {\n",
       "        text-align: right;\n",
       "    }\n",
       "</style>\n",
       "<table border=\"1\" class=\"dataframe\">\n",
       "  <thead>\n",
       "    <tr style=\"text-align: right;\">\n",
       "      <th></th>\n",
       "      <th>City Number</th>\n",
       "      <th>City</th>\n",
       "      <th>Country</th>\n",
       "      <th>Date</th>\n",
       "      <th>Latitude</th>\n",
       "      <th>Longitude</th>\n",
       "      <th>Max Temperature (F)</th>\n",
       "      <th>Humidity (%)</th>\n",
       "      <th>Cloudiness (%)</th>\n",
       "      <th>Wind Speed (mph)</th>\n",
       "    </tr>\n",
       "  </thead>\n",
       "  <tbody>\n",
       "    <tr>\n",
       "      <th>0</th>\n",
       "      <td>1</td>\n",
       "      <td>Black River</td>\n",
       "      <td>JM</td>\n",
       "      <td>1606603021</td>\n",
       "      <td>18.03</td>\n",
       "      <td>-77.85</td>\n",
       "      <td>82.40</td>\n",
       "      <td>74</td>\n",
       "      <td>20</td>\n",
       "      <td>9.17</td>\n",
       "    </tr>\n",
       "    <tr>\n",
       "      <th>1</th>\n",
       "      <td>2</td>\n",
       "      <td>Tuktoyaktuk</td>\n",
       "      <td>CA</td>\n",
       "      <td>1606603022</td>\n",
       "      <td>69.45</td>\n",
       "      <td>-133.04</td>\n",
       "      <td>6.80</td>\n",
       "      <td>84</td>\n",
       "      <td>90</td>\n",
       "      <td>10.29</td>\n",
       "    </tr>\n",
       "    <tr>\n",
       "      <th>2</th>\n",
       "      <td>3</td>\n",
       "      <td>Comodoro Rivadavia</td>\n",
       "      <td>AR</td>\n",
       "      <td>1606602876</td>\n",
       "      <td>-45.87</td>\n",
       "      <td>-67.50</td>\n",
       "      <td>64.40</td>\n",
       "      <td>22</td>\n",
       "      <td>40</td>\n",
       "      <td>20.80</td>\n",
       "    </tr>\n",
       "    <tr>\n",
       "      <th>3</th>\n",
       "      <td>4</td>\n",
       "      <td>Melilla</td>\n",
       "      <td>ES</td>\n",
       "      <td>1606603025</td>\n",
       "      <td>35.29</td>\n",
       "      <td>-2.94</td>\n",
       "      <td>59.00</td>\n",
       "      <td>82</td>\n",
       "      <td>0</td>\n",
       "      <td>2.24</td>\n",
       "    </tr>\n",
       "    <tr>\n",
       "      <th>4</th>\n",
       "      <td>5</td>\n",
       "      <td>Hobart</td>\n",
       "      <td>AU</td>\n",
       "      <td>1606602859</td>\n",
       "      <td>-42.88</td>\n",
       "      <td>147.33</td>\n",
       "      <td>60.01</td>\n",
       "      <td>82</td>\n",
       "      <td>90</td>\n",
       "      <td>10.29</td>\n",
       "    </tr>\n",
       "  </tbody>\n",
       "</table>\n",
       "</div>"
      ],
      "text/plain": [
       "   City Number                City Country        Date  Latitude  Longitude  \\\n",
       "0            1         Black River      JM  1606603021     18.03     -77.85   \n",
       "1            2         Tuktoyaktuk      CA  1606603022     69.45    -133.04   \n",
       "2            3  Comodoro Rivadavia      AR  1606602876    -45.87     -67.50   \n",
       "3            4             Melilla      ES  1606603025     35.29      -2.94   \n",
       "4            5              Hobart      AU  1606602859    -42.88     147.33   \n",
       "\n",
       "   Max Temperature (F)  Humidity (%)  Cloudiness (%)  Wind Speed (mph)  \n",
       "0                82.40            74              20              9.17  \n",
       "1                 6.80            84              90             10.29  \n",
       "2                64.40            22              40             20.80  \n",
       "3                59.00            82               0              2.24  \n",
       "4                60.01            82              90             10.29  "
      ]
     },
     "execution_count": 7,
     "metadata": {},
     "output_type": "execute_result"
    }
   ],
   "source": [
    "#Create dictionary for weather DF\n",
    "\n",
    "weather_dict={\n",
    "    'City Number': city_no,\n",
    "    'City': city_name,\n",
    "    'Country': country,\n",
    "    'Date': date,\n",
    "    'Latitude': latitude,\n",
    "    'Longitude': longitude,\n",
    "    'Max Temperature (F)': temperature,\n",
    "    'Humidity (%)': humidity,\n",
    "    'Cloudiness (%)': cloudiness,\n",
    "    'Wind Speed (mph)': wind_speed}\n",
    "\n",
    "weather_df = pd.DataFrame(weather_dict)\n",
    "weather_df.to_csv(output_data_file, index=False, header=True)\n",
    "weather_df.head()"
   ]
  },
  {
   "cell_type": "code",
   "execution_count": 8,
   "metadata": {},
   "outputs": [
    {
     "data": {
      "image/png": "[encoded data removed]",
      "text/plain": [
       "<Figure size 432x288 with 1 Axes>"
      ]
     },
     "metadata": {
      "needs_background": "light"
     },
     "output_type": "display_data"
    },
    {
     "data": {
      "text/plain": [
       "<Figure size 432x288 with 0 Axes>"
      ]
     },
     "metadata": {},
     "output_type": "display_data"
    }
   ],
   "source": [
    "#Create Scatterplot for Temperature (F) Vs Latitude\n",
    "\n",
    "plt.scatter(weather_df['Latitude'], weather_df['Max Temperature (F)'], marker='o', facecolors=\"blue\", edgecolors=\"black\" )\n",
    "plt.title('Temperature (F) Vs Latitude')\n",
    "plt.xlabel('Latitude')\n",
    "plt.ylabel('Temperature')\n",
    "plt.grid(True)\n",
    "plt.show()\n",
    "plt.savefig(\"TempVsLatitude.png\")"
   ]
  },
  {
   "cell_type": "markdown",
   "metadata": {},
   "source": [
    "Scatterplot is comparing temperature to latitude - there appears to be a strong correlation between the two"
   ]
  },
  {
   "cell_type": "code",
   "execution_count": 9,
   "metadata": {},
   "outputs": [
    {
     "data": {
      "image/png": "[encoded data removed]",
      "text/plain": [
       "<Figure size 432x288 with 1 Axes>"
      ]
     },
     "metadata": {
      "needs_background": "light"
     },
     "output_type": "display_data"
    },
    {
     "data": {
      "text/plain": [
       "<Figure size 432x288 with 0 Axes>"
      ]
     },
     "metadata": {},
     "output_type": "display_data"
    }
   ],
   "source": [
    "#Create Scatterplot for Humidity (%) vs. Latitude\n",
    "\n",
    "plt.scatter(weather_df['Latitude'], weather_df['Humidity (%)'], marker='o', facecolors=\"blue\", edgecolors=\"black\" )\n",
    "plt.title('Humidity (%) Vs Latitude')\n",
    "plt.xlabel('Latitude')\n",
    "plt.ylabel('Humidity')\n",
    "plt.grid(True)\n",
    "plt.show()\n",
    "plt.savefig(\"HumidityVsLatitude.png\")"
   ]
  },
  {
   "cell_type": "markdown",
   "metadata": {},
   "source": [
    "Scatterplot is comparing humidity to latitude - there appears to be some consistency, however there is a large cluster of cities between the latitudes of 40 and 80 that are extremely humid"
   ]
  },
  {
   "cell_type": "code",
   "execution_count": 10,
   "metadata": {},
   "outputs": [
    {
     "data": {
      "image/png": "[encoded data removed]",
      "text/plain": [
       "<Figure size 432x288 with 1 Axes>"
      ]
     },
     "metadata": {
      "needs_background": "light"
     },
     "output_type": "display_data"
    },
    {
     "data": {
      "text/plain": [
       "<Figure size 432x288 with 0 Axes>"
      ]
     },
     "metadata": {},
     "output_type": "display_data"
    }
   ],
   "source": [
    "#Create Scatterplot for Cloudiness (%) vs. Latitude\n",
    "\n",
    "plt.scatter(weather_df['Latitude'], weather_df['Cloudiness (%)'], marker='o', facecolors=\"blue\", edgecolors=\"black\" )\n",
    "plt.title('Cloudiness (%) Vs Latitude')\n",
    "plt.xlabel('Latitude')\n",
    "plt.ylabel('Cloudiness')\n",
    "plt.grid(True)\n",
    "plt.show()\n",
    "plt.savefig(\"CloudinessVsLatitude.png\")"
   ]
  },
  {
   "cell_type": "markdown",
   "metadata": {},
   "source": [
    "Scatterplot is comparing cloudiness to latitude - the two do not seem to be correlated"
   ]
  },
  {
   "cell_type": "code",
   "execution_count": 11,
   "metadata": {},
   "outputs": [
    {
     "data": {
      "image/png": "[encoded data removed]",
      "text/plain": [
       "<Figure size 432x288 with 1 Axes>"
      ]
     },
     "metadata": {
      "needs_background": "light"
     },
     "output_type": "display_data"
    },
    {
     "data": {
      "text/plain": [
       "<Figure size 432x288 with 0 Axes>"
      ]
     },
     "metadata": {},
     "output_type": "display_data"
    }
   ],
   "source": [
    "#Create Scatterplot for Wind Speed (mph) vs. Latitude\n",
    "\n",
    "plt.scatter(weather_df['Latitude'], weather_df['Wind Speed (mph)'], marker='o', facecolors=\"blue\", edgecolors=\"black\" )\n",
    "plt.title('Wind Speed (mph) Vs Latitude')\n",
    "plt.xlabel('Latitude')\n",
    "plt.ylabel('Wind Speed')\n",
    "plt.grid(True)\n",
    "plt.show()\n",
    "plt.savefig(\"WindSpeedVsLatitude.png\")"
   ]
  },
  {
   "cell_type": "markdown",
   "metadata": {},
   "source": [
    "Scatterplot is comparing wind speed to latitude - most latitudes appear to have a relatively low wind speed, however there are some cities across all latitudes that have higher wind speeds"
   ]
  },
  {
   "cell_type": "code",
   "execution_count": 12,
   "metadata": {},
   "outputs": [
    {
     "data": {
      "text/html": [
       "<div>\n",
       "<style scoped>\n",
       "    .dataframe tbody tr th:only-of-type {\n",
       "        vertical-align: middle;\n",
       "    }\n",
       "\n",
       "    .dataframe tbody tr th {\n",
       "        vertical-align: top;\n",
       "    }\n",
       "\n",
       "    .dataframe thead th {\n",
       "        text-align: right;\n",
       "    }\n",
       "</style>\n",
       "<table border=\"1\" class=\"dataframe\">\n",
       "  <thead>\n",
       "    <tr style=\"text-align: right;\">\n",
       "      <th></th>\n",
       "      <th>City Number</th>\n",
       "      <th>City</th>\n",
       "      <th>Country</th>\n",
       "      <th>Date</th>\n",
       "      <th>Latitude</th>\n",
       "      <th>Longitude</th>\n",
       "      <th>Max Temperature (F)</th>\n",
       "      <th>Humidity (%)</th>\n",
       "      <th>Cloudiness (%)</th>\n",
       "      <th>Wind Speed (mph)</th>\n",
       "    </tr>\n",
       "  </thead>\n",
       "  <tbody>\n",
       "    <tr>\n",
       "      <th>0</th>\n",
       "      <td>1</td>\n",
       "      <td>Black River</td>\n",
       "      <td>JM</td>\n",
       "      <td>1606603021</td>\n",
       "      <td>18.03</td>\n",
       "      <td>-77.85</td>\n",
       "      <td>82.4</td>\n",
       "      <td>74</td>\n",
       "      <td>20</td>\n",
       "      <td>9.17</td>\n",
       "    </tr>\n",
       "    <tr>\n",
       "      <th>1</th>\n",
       "      <td>2</td>\n",
       "      <td>Tuktoyaktuk</td>\n",
       "      <td>CA</td>\n",
       "      <td>1606603022</td>\n",
       "      <td>69.45</td>\n",
       "      <td>-133.04</td>\n",
       "      <td>6.8</td>\n",
       "      <td>84</td>\n",
       "      <td>90</td>\n",
       "      <td>10.29</td>\n",
       "    </tr>\n",
       "    <tr>\n",
       "      <th>3</th>\n",
       "      <td>4</td>\n",
       "      <td>Melilla</td>\n",
       "      <td>ES</td>\n",
       "      <td>1606603025</td>\n",
       "      <td>35.29</td>\n",
       "      <td>-2.94</td>\n",
       "      <td>59.0</td>\n",
       "      <td>82</td>\n",
       "      <td>0</td>\n",
       "      <td>2.24</td>\n",
       "    </tr>\n",
       "    <tr>\n",
       "      <th>5</th>\n",
       "      <td>6</td>\n",
       "      <td>Khovd</td>\n",
       "      <td>MN</td>\n",
       "      <td>1606603027</td>\n",
       "      <td>48.01</td>\n",
       "      <td>91.64</td>\n",
       "      <td>9.1</td>\n",
       "      <td>93</td>\n",
       "      <td>30</td>\n",
       "      <td>0.54</td>\n",
       "    </tr>\n",
       "    <tr>\n",
       "      <th>6</th>\n",
       "      <td>7</td>\n",
       "      <td>Ponta do Sol</td>\n",
       "      <td>PT</td>\n",
       "      <td>1606603028</td>\n",
       "      <td>32.67</td>\n",
       "      <td>-17.10</td>\n",
       "      <td>60.8</td>\n",
       "      <td>51</td>\n",
       "      <td>40</td>\n",
       "      <td>8.05</td>\n",
       "    </tr>\n",
       "  </tbody>\n",
       "</table>\n",
       "</div>"
      ],
      "text/plain": [
       "   City Number          City Country        Date  Latitude  Longitude  \\\n",
       "0            1   Black River      JM  1606603021     18.03     -77.85   \n",
       "1            2   Tuktoyaktuk      CA  1606603022     69.45    -133.04   \n",
       "3            4       Melilla      ES  1606603025     35.29      -2.94   \n",
       "5            6         Khovd      MN  1606603027     48.01      91.64   \n",
       "6            7  Ponta do Sol      PT  1606603028     32.67     -17.10   \n",
       "\n",
       "   Max Temperature (F)  Humidity (%)  Cloudiness (%)  Wind Speed (mph)  \n",
       "0                 82.4            74              20              9.17  \n",
       "1                  6.8            84              90             10.29  \n",
       "3                 59.0            82               0              2.24  \n",
       "5                  9.1            93              30              0.54  \n",
       "6                 60.8            51              40              8.05  "
      ]
     },
     "execution_count": 12,
     "metadata": {},
     "output_type": "execute_result"
    }
   ],
   "source": [
    "#Create separate DF for Northern Hemisphere\n",
    "\n",
    "northern_df = weather_df.loc[weather_df['Latitude'] > 0]\n",
    "northern_df.head()"
   ]
  },
  {
   "cell_type": "code",
   "execution_count": 13,
   "metadata": {},
   "outputs": [
    {
     "data": {
      "text/html": [
       "<div>\n",
       "<style scoped>\n",
       "    .dataframe tbody tr th:only-of-type {\n",
       "        vertical-align: middle;\n",
       "    }\n",
       "\n",
       "    .dataframe tbody tr th {\n",
       "        vertical-align: top;\n",
       "    }\n",
       "\n",
       "    .dataframe thead th {\n",
       "        text-align: right;\n",
       "    }\n",
       "</style>\n",
       "<table border=\"1\" class=\"dataframe\">\n",
       "  <thead>\n",
       "    <tr style=\"text-align: right;\">\n",
       "      <th></th>\n",
       "      <th>City Number</th>\n",
       "      <th>City</th>\n",
       "      <th>Country</th>\n",
       "      <th>Date</th>\n",
       "      <th>Latitude</th>\n",
       "      <th>Longitude</th>\n",
       "      <th>Max Temperature (F)</th>\n",
       "      <th>Humidity (%)</th>\n",
       "      <th>Cloudiness (%)</th>\n",
       "      <th>Wind Speed (mph)</th>\n",
       "    </tr>\n",
       "  </thead>\n",
       "  <tbody>\n",
       "    <tr>\n",
       "      <th>2</th>\n",
       "      <td>3</td>\n",
       "      <td>Comodoro Rivadavia</td>\n",
       "      <td>AR</td>\n",
       "      <td>1606602876</td>\n",
       "      <td>-45.87</td>\n",
       "      <td>-67.50</td>\n",
       "      <td>64.40</td>\n",
       "      <td>22</td>\n",
       "      <td>40</td>\n",
       "      <td>20.80</td>\n",
       "    </tr>\n",
       "    <tr>\n",
       "      <th>4</th>\n",
       "      <td>5</td>\n",
       "      <td>Hobart</td>\n",
       "      <td>AU</td>\n",
       "      <td>1606602859</td>\n",
       "      <td>-42.88</td>\n",
       "      <td>147.33</td>\n",
       "      <td>60.01</td>\n",
       "      <td>82</td>\n",
       "      <td>90</td>\n",
       "      <td>10.29</td>\n",
       "    </tr>\n",
       "    <tr>\n",
       "      <th>9</th>\n",
       "      <td>10</td>\n",
       "      <td>Rikitea</td>\n",
       "      <td>PF</td>\n",
       "      <td>1606603032</td>\n",
       "      <td>-23.12</td>\n",
       "      <td>-134.97</td>\n",
       "      <td>76.82</td>\n",
       "      <td>79</td>\n",
       "      <td>100</td>\n",
       "      <td>14.14</td>\n",
       "    </tr>\n",
       "    <tr>\n",
       "      <th>17</th>\n",
       "      <td>18</td>\n",
       "      <td>Vaini</td>\n",
       "      <td>TO</td>\n",
       "      <td>1606603042</td>\n",
       "      <td>-21.20</td>\n",
       "      <td>-175.20</td>\n",
       "      <td>84.20</td>\n",
       "      <td>66</td>\n",
       "      <td>20</td>\n",
       "      <td>18.34</td>\n",
       "    </tr>\n",
       "    <tr>\n",
       "      <th>18</th>\n",
       "      <td>19</td>\n",
       "      <td>Bredasdorp</td>\n",
       "      <td>ZA</td>\n",
       "      <td>1606603043</td>\n",
       "      <td>-34.53</td>\n",
       "      <td>20.04</td>\n",
       "      <td>55.40</td>\n",
       "      <td>87</td>\n",
       "      <td>10</td>\n",
       "      <td>3.36</td>\n",
       "    </tr>\n",
       "  </tbody>\n",
       "</table>\n",
       "</div>"
      ],
      "text/plain": [
       "    City Number                City Country        Date  Latitude  Longitude  \\\n",
       "2             3  Comodoro Rivadavia      AR  1606602876    -45.87     -67.50   \n",
       "4             5              Hobart      AU  1606602859    -42.88     147.33   \n",
       "9            10             Rikitea      PF  1606603032    -23.12    -134.97   \n",
       "17           18               Vaini      TO  1606603042    -21.20    -175.20   \n",
       "18           19          Bredasdorp      ZA  1606603043    -34.53      20.04   \n",
       "\n",
       "    Max Temperature (F)  Humidity (%)  Cloudiness (%)  Wind Speed (mph)  \n",
       "2                 64.40            22              40             20.80  \n",
       "4                 60.01            82              90             10.29  \n",
       "9                 76.82            79             100             14.14  \n",
       "17                84.20            66              20             18.34  \n",
       "18                55.40            87              10              3.36  "
      ]
     },
     "execution_count": 13,
     "metadata": {},
     "output_type": "execute_result"
    }
   ],
   "source": [
    "#Create separate DF for Southern Hemisphere\n",
    "southern_df = weather_df.loc[weather_df['Latitude'] < 0]\n",
    "southern_df.head()"
   ]
  },
  {
   "cell_type": "code",
   "execution_count": 14,
   "metadata": {},
   "outputs": [
    {
     "name": "stdout",
     "output_type": "stream",
     "text": [
      "The r-value is: -0.8715075451277233\n"
     ]
    },
    {
     "data": {
      "image/png": "[encoded data removed]",
      "text/plain": [
       "<Figure size 432x288 with 1 Axes>"
      ]
     },
     "metadata": {
      "needs_background": "light"
     },
     "output_type": "display_data"
    },
    {
     "data": {
      "text/plain": [
       "<Figure size 432x288 with 0 Axes>"
      ]
     },
     "metadata": {},
     "output_type": "display_data"
    }
   ],
   "source": [
    "#Create Linear Regression for Northern Hemisphere - Temperature (F) vs. Latitude\n",
    "\n",
    "x_values = northern_df['Latitude']\n",
    "y_values = northern_df['Max Temperature (F)']\n",
    "(slope, intercept, rvalue, pvalue, stderr) = linregress(x_values, y_values)\n",
    "regress_values = x_values * slope + intercept\n",
    "line_eq = \"y = \" + str(round(slope,2)) + \"x + \" + str(round(intercept,2))\n",
    "plt.scatter(x_values,y_values)\n",
    "plt.plot(x_values,regress_values,\"r-\")\n",
    "plt.annotate(line_eq,(4,10),fontsize=15,color=\"red\")\n",
    "plt.title('Northern Hemisphere - Temperature (F) vs. Latitude')\n",
    "plt.xlabel('Latitude')\n",
    "plt.ylabel('Temperature (F)')\n",
    "print(f\"The r-value is: {rvalue}\")\n",
    "plt.show()\n",
    "plt.savefig(\"NorthTempVsLat.png\")"
   ]
  },
  {
   "cell_type": "markdown",
   "metadata": {},
   "source": [
    "Scatterplot compares max temperature of the northern hemisphere to latitude - temperature decreases as latitude increases"
   ]
  },
  {
   "cell_type": "code",
   "execution_count": 15,
   "metadata": {},
   "outputs": [
    {
     "name": "stdout",
     "output_type": "stream",
     "text": [
      "The r-value is: 0.5166061989399112\n"
     ]
    },
    {
     "data": {
      "image/png": "[encoded data removed]",
      "text/plain": [
       "<Figure size 432x288 with 1 Axes>"
      ]
     },
     "metadata": {
      "needs_background": "light"
     },
     "output_type": "display_data"
    },
    {
     "data": {
      "text/plain": [
       "<Figure size 432x288 with 0 Axes>"
      ]
     },
     "metadata": {},
     "output_type": "display_data"
    }
   ],
   "source": [
    "#Create Linear Regression for Southern Hemisphere - Temperature (F) vs. Latitude\n",
    "\n",
    "x_values = southern_df['Latitude']\n",
    "y_values = southern_df['Max Temperature (F)']\n",
    "(slope, intercept, rvalue, pvalue, stderr) = linregress(x_values, y_values)\n",
    "regress_values = x_values * slope + intercept\n",
    "line_eq = \"y = \" + str(round(slope,2)) + \"x + \" + str(round(intercept,2))\n",
    "plt.scatter(x_values,y_values)\n",
    "plt.plot(x_values,regress_values,\"r-\")\n",
    "plt.annotate(line_eq,(-50,85),fontsize=15,color=\"red\")\n",
    "plt.title('Southern Hemisphere - Temperature (F) vs. Latitude')\n",
    "plt.xlabel('Latitude')\n",
    "plt.ylabel('Temperature (F)')\n",
    "print(f\"The r-value is: {rvalue}\")\n",
    "plt.show()\n",
    "plt.savefig(\"SouthTempVsLat.png\")"
   ]
  },
  {
   "cell_type": "markdown",
   "metadata": {},
   "source": [
    "Scatterplot compares max temperature of the southern hemisphere to latitude - temperature decreases as latitude decreases"
   ]
  },
  {
   "cell_type": "code",
   "execution_count": 16,
   "metadata": {},
   "outputs": [
    {
     "name": "stdout",
     "output_type": "stream",
     "text": [
      "The r-value is: 0.3173740211052812\n"
     ]
    },
    {
     "data": {
      "image/png": "[encoded data removed]",
      "text/plain": [
       "<Figure size 432x288 with 1 Axes>"
      ]
     },
     "metadata": {
      "needs_background": "light"
     },
     "output_type": "display_data"
    },
    {
     "data": {
      "text/plain": [
       "<Figure size 432x288 with 0 Axes>"
      ]
     },
     "metadata": {},
     "output_type": "display_data"
    }
   ],
   "source": [
    "#Create Linear Regression for Northern Hemisphere - Humidity (%) vs. Latitude\n",
    "\n",
    "x_values = northern_df['Latitude']\n",
    "y_values = northern_df['Humidity (%)']\n",
    "(slope, intercept, rvalue, pvalue, stderr) = linregress(x_values, y_values)\n",
    "regress_values = x_values * slope + intercept\n",
    "line_eq = \"y = \" + str(round(slope,2)) + \"x + \" + str(round(intercept,2))\n",
    "plt.scatter(x_values,y_values)\n",
    "plt.plot(x_values,regress_values,\"r-\")\n",
    "plt.annotate(line_eq,(45,10),fontsize=15,color=\"red\")\n",
    "plt.title('Northern Hemisphere - Humidity (%) vs. Latitude')\n",
    "plt.xlabel('Latitude')\n",
    "plt.ylabel('Humidity (%)')\n",
    "print(f\"The r-value is: {rvalue}\")\n",
    "plt.show()\n",
    "plt.savefig(\"NorthHumidityVsLat.png\")"
   ]
  },
  {
   "cell_type": "markdown",
   "metadata": {},
   "source": [
    "Scatterplot compares humidity temperature of the northern hemisphere to latitude - overall the northern hemisphere has medium to high humidity but there does not seem to be a strong correlation to latitude."
   ]
  },
  {
   "cell_type": "code",
   "execution_count": 17,
   "metadata": {},
   "outputs": [
    {
     "name": "stdout",
     "output_type": "stream",
     "text": [
      "The r-value is: 0.3073293217561218\n"
     ]
    },
    {
     "data": {
      "image/png": "[encoded data removed]",
      "text/plain": [
       "<Figure size 432x288 with 1 Axes>"
      ]
     },
     "metadata": {
      "needs_background": "light"
     },
     "output_type": "display_data"
    },
    {
     "data": {
      "text/plain": [
       "<Figure size 432x288 with 0 Axes>"
      ]
     },
     "metadata": {},
     "output_type": "display_data"
    }
   ],
   "source": [
    "#Create Linear Regression for Southern Hemisphere - Humidity (%) vs. Latitude\n",
    "\n",
    "x_values = southern_df['Latitude']\n",
    "y_values = southern_df['Humidity (%)']\n",
    "(slope, intercept, rvalue, pvalue, stderr) = linregress(x_values, y_values)\n",
    "regress_values = x_values * slope + intercept\n",
    "line_eq = \"y = \" + str(round(slope,2)) + \"x + \" + str(round(intercept,2))\n",
    "plt.scatter(x_values,y_values)\n",
    "plt.plot(x_values,regress_values,\"r-\")\n",
    "plt.annotate(line_eq,(-50,40),fontsize=15,color=\"red\")\n",
    "plt.title('Southern Hemisphere - Humidity (%) vs. Latitude')\n",
    "plt.xlabel('Latitude')\n",
    "plt.ylabel('Humidity (%)')\n",
    "print(f\"The r-value is: {rvalue}\")\n",
    "plt.show()\n",
    "plt.savefig(\"SouthHumidityVsLat.png\")"
   ]
  },
  {
   "cell_type": "markdown",
   "metadata": {},
   "source": [
    "Scatterplot compares humidity of the southern hemisphere to latitude - once again little relationship between latitude and humidity"
   ]
  },
  {
   "cell_type": "code",
   "execution_count": 18,
   "metadata": {},
   "outputs": [
    {
     "name": "stdout",
     "output_type": "stream",
     "text": [
      "The r-value is: 0.2899214183144352\n"
     ]
    },
    {
     "data": {
      "image/png": "[encoded data removed]",
      "text/plain": [
       "<Figure size 432x288 with 1 Axes>"
      ]
     },
     "metadata": {
      "needs_background": "light"
     },
     "output_type": "display_data"
    },
    {
     "data": {
      "text/plain": [
       "<Figure size 432x288 with 0 Axes>"
      ]
     },
     "metadata": {},
     "output_type": "display_data"
    }
   ],
   "source": [
    "#Create Linear Regression for Northern Hemisphere - Cloudiness (%) vs. Latitude\n",
    "\n",
    "x_values = northern_df['Latitude']\n",
    "y_values = northern_df['Cloudiness (%)']\n",
    "(slope, intercept, rvalue, pvalue, stderr) = linregress(x_values, y_values)\n",
    "regress_values = x_values * slope + intercept\n",
    "line_eq = \"y = \" + str(round(slope,2)) + \"x + \" + str(round(intercept,2))\n",
    "plt.scatter(x_values,y_values)\n",
    "plt.plot(x_values,regress_values,\"r-\")\n",
    "plt.annotate(line_eq,(20, 60),fontsize=15,color=\"red\")\n",
    "plt.title('Northern Hemisphere - Cloudiness (%) vs. Latitude')\n",
    "plt.xlabel('Latitude')\n",
    "plt.ylabel('Cloudiness (%)')\n",
    "print(f\"The r-value is: {rvalue}\")\n",
    "plt.show()\n",
    "plt.savefig(\"NorthCloudinessVsLat.png\")"
   ]
  },
  {
   "cell_type": "markdown",
   "metadata": {},
   "source": [
    "Scatterplot compares cloudiness of the northern hemisphere to latitude - very weak relationship between the two"
   ]
  },
  {
   "cell_type": "code",
   "execution_count": 19,
   "metadata": {},
   "outputs": [
    {
     "name": "stdout",
     "output_type": "stream",
     "text": [
      "The r-value is: 0.12227696040181743\n"
     ]
    },
    {
     "data": {
      "image/png": "[encoded data removed]",
      "text/plain": [
       "<Figure size 432x288 with 1 Axes>"
      ]
     },
     "metadata": {
      "needs_background": "light"
     },
     "output_type": "display_data"
    },
    {
     "data": {
      "text/plain": [
       "<Figure size 432x288 with 0 Axes>"
      ]
     },
     "metadata": {},
     "output_type": "display_data"
    }
   ],
   "source": [
    "#Create Linear Regression for Southern Hemisphere - Cloudiness (%) vs. Latitude\n",
    "\n",
    "x_values = southern_df['Latitude']\n",
    "y_values = southern_df['Cloudiness (%)']\n",
    "(slope, intercept, rvalue, pvalue, stderr) = linregress(x_values, y_values)\n",
    "regress_values = x_values * slope + intercept\n",
    "line_eq = \"y = \" + str(round(slope,2)) + \"x + \" + str(round(intercept,2))\n",
    "plt.scatter(x_values,y_values)\n",
    "plt.plot(x_values,regress_values,\"r-\")\n",
    "plt.annotate(line_eq,(-50,60),fontsize=15,color=\"red\")\n",
    "plt.title('Southern Hemisphere - Cloudiness (%) vs. Latitude')\n",
    "plt.xlabel('Latitude')\n",
    "plt.ylabel('Cloudiness (%)')\n",
    "print(f\"The r-value is: {rvalue}\")\n",
    "plt.show()\n",
    "plt.savefig(\"SouthCloudinessVsLat.png\")"
   ]
  },
  {
   "cell_type": "markdown",
   "metadata": {},
   "source": [
    "Scatterplot compares cloudiness of the southern hemisphere to latitude - slightly higher relationship than northern hemisphere but still not significant"
   ]
  },
  {
   "cell_type": "code",
   "execution_count": 20,
   "metadata": {},
   "outputs": [
    {
     "name": "stdout",
     "output_type": "stream",
     "text": [
      "The r-value is: 0.16195084447418404\n"
     ]
    },
    {
     "data": {
      "image/png": "[encoded data removed]",
      "text/plain": [
       "<Figure size 432x288 with 1 Axes>"
      ]
     },
     "metadata": {
      "needs_background": "light"
     },
     "output_type": "display_data"
    },
    {
     "data": {
      "text/plain": [
       "<Figure size 432x288 with 0 Axes>"
      ]
     },
     "metadata": {},
     "output_type": "display_data"
    }
   ],
   "source": [
    "#Create Linear Regression for Northern Hemisphere - Wind Speed (mph) vs. Latitude\n",
    "\n",
    "x_values = northern_df['Latitude']\n",
    "y_values = northern_df['Wind Speed (mph)']\n",
    "(slope, intercept, rvalue, pvalue, stderr) = linregress(x_values, y_values)\n",
    "regress_values = x_values * slope + intercept\n",
    "line_eq = \"y = \" + str(round(slope,2)) + \"x + \" + str(round(intercept,2))\n",
    "plt.scatter(x_values,y_values)\n",
    "plt.plot(x_values,regress_values,\"r-\")\n",
    "plt.annotate(line_eq,(0, 25),fontsize=15,color=\"red\")\n",
    "plt.title('Northern Hemisphere - Wind Speed (mph) vs. Latitude')\n",
    "plt.xlabel('Latitude')\n",
    "plt.ylabel('Wind Speed (mph)')\n",
    "print(f\"The r-value is: {rvalue}\")\n",
    "plt.show()\n",
    "plt.savefig(\"NorthWindSpeedVsLat.png\")"
   ]
  },
  {
   "cell_type": "markdown",
   "metadata": {},
   "source": [
    "Scatterplot compares windspeed of the northern hemisphere to latitude - very little relationship between the two"
   ]
  },
  {
   "cell_type": "code",
   "execution_count": 21,
   "metadata": {},
   "outputs": [
    {
     "name": "stdout",
     "output_type": "stream",
     "text": [
      "The r-value is: -0.4784691721565619\n"
     ]
    },
    {
     "data": {
      "image/png": "[encoded data removed]",
      "text/plain": [
       "<Figure size 432x288 with 1 Axes>"
      ]
     },
     "metadata": {
      "needs_background": "light"
     },
     "output_type": "display_data"
    },
    {
     "data": {
      "text/plain": [
       "<Figure size 432x288 with 0 Axes>"
      ]
     },
     "metadata": {},
     "output_type": "display_data"
    }
   ],
   "source": [
    "#Create Linear Regression for Southern Hemisphere - Wind Speed (mph) vs. Latitude\n",
    "\n",
    "x_values = southern_df['Latitude']\n",
    "y_values = southern_df['Wind Speed (mph)']\n",
    "(slope, intercept, rvalue, pvalue, stderr) = linregress(x_values, y_values)\n",
    "regress_values = x_values * slope + intercept\n",
    "line_eq = \"y = \" + str(round(slope,2)) + \"x + \" + str(round(intercept,2))\n",
    "plt.scatter(x_values,y_values)\n",
    "plt.plot(x_values,regress_values,\"r-\")\n",
    "plt.annotate(line_eq,(-30,25),fontsize=15,color=\"red\")\n",
    "plt.title('Southern Hemisphere - Wind Speed (mph) vs. Latitude')\n",
    "plt.xlabel('Latitude')\n",
    "plt.ylabel('Wind Speed (mph)')\n",
    "print(f\"The r-value is: {rvalue}\")\n",
    "plt.show()\n",
    "plt.savefig(\"SouthWindSpeedVsLat.png\")"
   ]
  },
  {
   "cell_type": "markdown",
   "metadata": {},
   "source": [
    "Scatterplot compares windspeed of the southern hemisphere to latitude - once again little relationship between latitude and windspeed"
   ]
  },
  {
   "cell_type": "code",
   "execution_count": null,
   "metadata": {},
   "outputs": [],
   "source": []
  }
 ],
 "metadata": {
  "kernelspec": {
   "display_name": "Python [conda env:PythonData] *",
   "language": "python",
   "name": "conda-env-PythonData-py"
  },
  "language_info": {
   "codemirror_mode": {
    "name": "ipython",
    "version": 3
   },
   "file_extension": ".py",
   "mimetype": "text/x-python",
   "name": "python",
   "nbconvert_exporter": "python",
   "pygments_lexer": "ipython3",
   "version": "3.7.1"
  }
 },
 "nbformat": 4,
 "nbformat_minor": 4
}
